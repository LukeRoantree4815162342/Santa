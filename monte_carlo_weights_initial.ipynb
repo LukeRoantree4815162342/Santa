{
 "metadata": {
  "name": "",
  "signature": "sha256:29e2842fab1b62f6f268c0d8a8e010dc248dffa310640ec2be6fb48c4b60e266"
 },
 "nbformat": 3,
 "nbformat_minor": 0,
 "worksheets": [
  {
   "cells": [
    {
     "cell_type": "code",
     "collapsed": false,
     "input": [
      "import numpy as np\n",
      "import bar_chart_of_categories as barc\n",
      "import matplotlib.pyplot as plt"
     ],
     "language": "python",
     "metadata": {},
     "outputs": [],
     "prompt_number": 1
    },
    {
     "cell_type": "code",
     "collapsed": false,
     "input": [
      "def horse():\n",
      "    return max(0, np.random.normal(5,2,1)[0])\n",
      "\n",
      "def ball():\n",
      "    return max(0, 1 + np.random.normal(1,0.3,1)[0])\n",
      "\n",
      "def bike():\n",
      "    return max(0, np.random.normal(20,10,1)[0])\n",
      "\n",
      "def train():\n",
      "    return max(0, np.random.normal(10,5,1)[0])\n",
      "\n",
      "def coal():\n",
      "    return 47 * np.random.beta(0.5,0.5,1)[0]\n",
      "\n",
      "def book():\n",
      "    return np.random.chisquare(2,1)[0]\n",
      "\n",
      "def doll():\n",
      "    return np.random.gamma(5,1,1)[0]\n",
      "\n",
      "def blocks():\n",
      "    return np.random.triangular(5,10,20,1)[0]\n",
      "\n",
      "def gloves():\n",
      "    return 3.0 + np.random.rand(1)[0] if np.random.rand(1) < 0.3 else np.random.rand(1)[0]\n",
      "   "
     ],
     "language": "python",
     "metadata": {},
     "outputs": [],
     "prompt_number": 2
    },
    {
     "cell_type": "code",
     "collapsed": false,
     "input": [
      "presents_with_random_weights = {}\n",
      "\n",
      "del barc.categories[-1] # removes the '' element from categories\n",
      "del barc.counts['']     #removes it from counts dictionary\n",
      "\n",
      "for simulation_count in range(1000):\n",
      "    for i in barc.categories:\n",
      "        if not i in presents_with_random_weights:\n",
      "            presents_with_random_weights[i] = []\n",
      "        for j in range(barc.counts[i]):\n",
      "            presents_with_random_weights[i].append(locals()[i]())\n",
      " "
     ],
     "language": "python",
     "metadata": {},
     "outputs": [],
     "prompt_number": 3
    },
    {
     "cell_type": "code",
     "collapsed": false,
     "input": [
      "for present in presents_with_random_weights:\n",
      "    new_hist = plt.figure(present)\n",
      "    plt.hist(presents_with_random_weights[present], 300, label=str(present))\n",
      "    plt.xlabel('weight')\n",
      "    plt.title(str(present))\n"
     ],
     "language": "python",
     "metadata": {},
     "outputs": [],
     "prompt_number": 5
    },
    {
     "cell_type": "code",
     "collapsed": false,
     "input": [],
     "language": "python",
     "metadata": {},
     "outputs": []
    }
   ],
   "metadata": {}
  }
 ]
}